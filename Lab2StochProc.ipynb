{
 "cells": [
  {
   "cell_type": "markdown",
   "metadata": {},
   "source": [
    " #  Вариант 10"
   ]
  },
  {
   "cell_type": "markdown",
   "metadata": {},
   "source": [
    "# Задание 2: информационное исследование процессов"
   ]
  },
  {
   "cell_type": "code",
   "execution_count": 3,
   "metadata": {},
   "outputs": [],
   "source": [
    "import numpy as np\n",
    "import math\n",
    "from matplotlib import pyplot as plt\n",
    "import seaborn as sns\n",
    "sns.set(style='darkgrid')"
   ]
  },
  {
   "cell_type": "code",
   "execution_count": 4,
   "metadata": {},
   "outputs": [],
   "source": [
    "a, b, c, d, m1, w1, θ1, m2, w2, θ2, m3, w3, θ3, m4, w4, θ4, m5, \\\n",
    "w5, θ5, m6, w6, θ6 = -1, 0.1, -2, 0.2, 3, np.pi / 12, 2, 1, \\\n",
    "9 * np.pi/8, 1, 0.5, 7, 0, 2, -np.pi / 12, 1, 1, 3 * np.pi / 8, \\\n",
    "2, 0.5, 8, 1"
   ]
  },
  {
   "cell_type": "code",
   "execution_count": 5,
   "metadata": {},
   "outputs": [],
   "source": [
    "def X0(t):\n",
    "    return a + b * t + m1 * np.sin(w1*t+θ1) + m2 * np.sin(w2*t+θ2) + m3 * np.sin(w3*t+θ3)\n",
    "\n",
    "def Y0(t):\n",
    "    return c + d * t + m4 * np.sin(w4*t+θ4) + m5 * np.sin(w5*t+θ5) + m6 * np.sin(w6*t+θ6)"
   ]
  },
  {
   "cell_type": "markdown",
   "metadata": {},
   "source": [
    "## Задача 1"
   ]
  },
  {
   "cell_type": "markdown",
   "metadata": {},
   "source": [
    "Нарисуйте график функций X0 (t), Y0 (t) на промежутке времени [0, 50]. "
   ]
  },
  {
   "cell_type": "code",
   "execution_count": 6,
   "metadata": {},
   "outputs": [
    {
     "data": {
      "image/png": "[encoded data removed]",
      "text/plain": [
       "<Figure size 432x288 with 2 Axes>"
      ]
     },
     "metadata": {},
     "output_type": "display_data"
    }
   ],
   "source": [
    "t_array = np.linspace(0, 50, 50)\n",
    "plt.subplot(2, 1, 1)\n",
    "plt.plot(t_array, X0(t_array), c = 'c')\n",
    "plt.scatter(t_array, X0(t_array), s = 4, c = 'r')\n",
    "plt.xlabel('time')\n",
    "plt.ylabel('X0')\n",
    "plt.title('X0')\n",
    "\n",
    "plt.subplot(2, 1, 2)\n",
    "plt.plot(t_array, Y0(t_array), c = 'c')\n",
    "plt.scatter(t_array, Y0(t_array), s = 3.5, c = 'r')\n",
    "plt.xlabel('time')\n",
    "plt.ylabel('Y0')\n",
    "plt.title('Y0')\n",
    "plt.tight_layout()\n",
    "plt.show()"
   ]
  },
  {
   "cell_type": "markdown",
   "metadata": {},
   "source": [
    "## Задача 2"
   ]
  },
  {
   "cell_type": "code",
   "execution_count": 7,
   "metadata": {},
   "outputs": [],
   "source": [
    "x_array = X0(t_array)\n",
    "y_array = Y0(t_array)"
   ]
  },
  {
   "cell_type": "markdown",
   "metadata": {},
   "source": [
    "## Задача 3"
   ]
  },
  {
   "cell_type": "markdown",
   "metadata": {},
   "source": [
    "Методом наименьших квадратов найдите наилучшие линейные приближения : \n",
    "Xj ≈ α + β t; Yj ≈ γ + δ t"
   ]
  },
  {
   "cell_type": "code",
   "execution_count": 8,
   "metadata": {},
   "outputs": [
    {
     "name": "stdout",
     "output_type": "stream",
     "text": [
      "-1.5398768031576189 0.1279681746050523\n"
     ]
    }
   ],
   "source": [
    "A = np.vstack([t_array, np.ones(len(t_array))]).T\n",
    "beta, alpha = np.linalg.lstsq(A, x_array, rcond=None)[0]\n",
    "print(alpha, beta)"
   ]
  },
  {
   "cell_type": "code",
   "execution_count": 9,
   "metadata": {},
   "outputs": [
    {
     "name": "stdout",
     "output_type": "stream",
     "text": [
      "-2.4282753293459827 0.22019822167854933\n"
     ]
    }
   ],
   "source": [
    "delta, gamma = np.linalg.lstsq(A, y_array, rcond=None)[0]\n",
    "print(gamma, delta)"
   ]
  },
  {
   "cell_type": "markdown",
   "metadata": {},
   "source": [
    "Определим теперь реализации (стационарных) процессов : Xoj = Xj - α - β t, Y oj = Y j - γ - δ t"
   ]
  },
  {
   "cell_type": "code",
   "execution_count": 10,
   "metadata": {},
   "outputs": [
    {
     "name": "stdout",
     "output_type": "stream",
     "text": [
      "[ 4.10924007  2.19733483  3.62556789  1.04235306  0.77677455 -0.45774388\n",
      " -2.02084872 -0.89144481 -2.92566391 -1.18802618 -2.96779089 -2.54418451\n",
      " -2.54333459 -3.1852053  -0.72286804 -1.53747032  1.35508042  0.7657302\n",
      "  1.7045107   2.2369361   1.32201311  3.46696353  1.96928483  3.92440072\n",
      "  2.49054331  2.04815092  1.50060325 -0.90186222  0.13117546 -2.28038086\n",
      " -0.98737186 -2.40637935 -2.89812267 -2.81062116 -4.71651197 -2.7578592\n",
      " -4.05014621 -1.61043607 -1.46437378 -0.86138987  0.51723573 -0.75241471\n",
      "  1.66027695  0.52283405  2.64301861  2.57864461  2.29295649  2.90589776\n",
      "  0.31765723  1.37726668]\n",
      "[ 3.44125022  1.81441842 -0.16715939  0.30946946  1.10338566  0.2400611\n",
      " -0.76002901 -1.58092371 -2.52774347 -1.87981375 -0.36733612 -1.04634872\n",
      " -2.586966   -1.86763698 -0.25400999  0.37671127  0.88555581  0.92558459\n",
      "  0.15736972  0.94229551  3.06302672  3.01764611  1.27649705  0.91804256\n",
      "  1.35078348  1.26041076  1.33165824  0.61056767 -1.54867147 -2.23475407\n",
      " -0.79148602 -0.69338805 -2.27258323 -2.88366373 -2.68193324 -2.32835508\n",
      " -1.0063172  -0.26627114 -1.51655696 -1.81004763  0.3012754   1.66466296\n",
      "  1.28994779  1.08857401  0.91245266  0.7111922   1.84515584  2.57488091\n",
      "  0.71170467 -1.05258585]\n"
     ]
    }
   ],
   "source": [
    "stationary_x_array = x_array - alpha - beta * t_array\n",
    "stationary_y_array = y_array - gamma - delta * t_array\n",
    "print(stationary_x_array)\n",
    "print(stationary_y_array)"
   ]
  },
  {
   "cell_type": "markdown",
   "metadata": {},
   "source": [
    "## Задание 4 "
   ]
  },
  {
   "cell_type": "markdown",
   "metadata": {},
   "source": [
    "Для каждого из процессов вычислите оценку дисперсии:"
   ]
  },
  {
   "cell_type": "code",
   "execution_count": 11,
   "metadata": {},
   "outputs": [
    {
     "name": "stdout",
     "output_type": "stream",
     "text": [
      "5.128893742871378\n",
      "2.6035086086818553\n"
     ]
    }
   ],
   "source": [
    "sigma2_x = np.sum(stationary_x_array ** 2) / len(stationary_x_array)\n",
    "sigma2_y = np.sum(stationary_y_array ** 2) / len(stationary_y_array)\n",
    "print(sigma2_x)\n",
    "print(sigma2_y)"
   ]
  },
  {
   "cell_type": "markdown",
   "metadata": {},
   "source": [
    "Для каждого из процессов вычислите оценку среднеквадратичного отклонения:"
   ]
  },
  {
   "cell_type": "code",
   "execution_count": 12,
   "metadata": {},
   "outputs": [
    {
     "name": "stdout",
     "output_type": "stream",
     "text": [
      "2.264706105187024\n",
      "1.6135391562282755\n"
     ]
    }
   ],
   "source": [
    "sigma_x = math.sqrt(sigma2_x)\n",
    "sigma_y = math.sqrt(sigma2_y)\n",
    "print(sigma_x)\n",
    "print(sigma_y)"
   ]
  },
  {
   "cell_type": "markdown",
   "metadata": {},
   "source": [
    "Вычислите значение ковариации между выборками:"
   ]
  },
  {
   "cell_type": "code",
   "execution_count": 13,
   "metadata": {},
   "outputs": [
    {
     "name": "stdout",
     "output_type": "stream",
     "text": [
      "2.901901077734583\n"
     ]
    }
   ],
   "source": [
    "cov = np.sum(stationary_x_array * stationary_y_array) / len(stationary_x_array)\n",
    "print(cov)"
   ]
  },
  {
   "cell_type": "markdown",
   "metadata": {},
   "source": [
    "## Задача 5"
   ]
  },
  {
   "cell_type": "markdown",
   "metadata": {},
   "source": [
    "Постройте дискретные выбоки"
   ]
  },
  {
   "cell_type": "code",
   "execution_count": 14,
   "metadata": {},
   "outputs": [
    {
     "name": "stdout",
     "output_type": "stream",
     "text": [
      "[ 2.  1.  2.  0.  0.  0. -1.  0. -1. -1. -1. -1. -1. -1.  0. -1.  1.  0.\n",
      "  1.  1.  1.  2.  1.  2.  1.  1.  1.  0.  0. -1.  0. -1. -1. -1. -2. -1.\n",
      " -2. -1. -1.  0.  0.  0.  1.  0.  1.  1.  1.  1.  0.  1.] [ 2.  1.  0.  0.  1.  0.  0. -1. -2. -1.  0. -1. -2. -1.  0.  0.  1.  1.\n",
      "  0.  1.  2.  2.  1.  1.  1.  1.  1.  0. -1. -1.  0.  0. -1. -2. -2. -1.\n",
      " -1.  0. -1. -1.  0.  1.  1.  1.  1.  0.  1.  2.  0. -1.]\n"
     ]
    }
   ],
   "source": [
    "a, b = np.zeros(len(stationary_x_array)), np.zeros(len(stationary_x_array))\n",
    "def discrete(stationary_array, sigma, a):\n",
    "    for i in range(len(stationary_array)):\n",
    "        if stationary_array[i] <= -1.5 * sigma:\n",
    "            a[i] = -2 \n",
    "        if -1.5 * sigma < stationary_array[i] <= -0.5 * sigma:\n",
    "            a[i] = -1\n",
    "        if -0.5 * sigma < stationary_array[i] < 0.5 * sigma:\n",
    "            a[i] = 0\n",
    "        if 0.5 * sigma <= stationary_array[i] < 1.5 * sigma:\n",
    "            a[i] = 1\n",
    "        if stationary_array[i] >= 1.5 * sigma:\n",
    "            a[i] = 2   \n",
    "    return a\n",
    "\n",
    "a, b = discrete(stationary_x_array, sigma_x, a), discrete(stationary_y_array, sigma_y, b)\n",
    "print(a, b)"
   ]
  },
  {
   "cell_type": "markdown",
   "metadata": {},
   "source": [
    "## Задача 6"
   ]
  },
  {
   "cell_type": "markdown",
   "metadata": {},
   "source": [
    "Постройте матрицу совместных эмпирических вероятностей размера 5⨯5"
   ]
  },
  {
   "cell_type": "code",
   "execution_count": 15,
   "metadata": {},
   "outputs": [
    {
     "name": "stdout",
     "output_type": "stream",
     "text": [
      "[[0.0064 0.024  0.024  0.0192 0.0064]\n",
      " [0.024  0.09   0.09   0.072  0.024 ]\n",
      " [0.0224 0.084  0.084  0.0672 0.0224]\n",
      " [0.024  0.09   0.09   0.072  0.024 ]\n",
      " [0.0032 0.012  0.012  0.0096 0.0032]]\n"
     ]
    }
   ],
   "source": [
    "from collections import Counter \n",
    "\n",
    "def probabilities(data):\n",
    "    count = Counter(data)\n",
    "    return np.array(list(count.values())) / len(data)\n",
    "\n",
    "p = np.outer(probabilities(a), probabilities(b))\n",
    "print(p)"
   ]
  },
  {
   "cell_type": "markdown",
   "metadata": {},
   "source": [
    "## Задача 7"
   ]
  },
  {
   "cell_type": "markdown",
   "metadata": {},
   "source": [
    "Вычислите\n",
    "H(a), H(b), H(a,b), H(a)+H(b)-H(a,b), H(b a), H(a b), DKL (a b), DKL (b a)"
   ]
  },
  {
   "cell_type": "code",
   "execution_count": 16,
   "metadata": {},
   "outputs": [
    {
     "name": "stdout",
     "output_type": "stream",
     "text": [
      "H(a) = 2.0336624542334842, H(b) = 2.1193308322365363, H(a,b) = 4.1529932864700205\n",
      "H(a) + H(b) - H(a,b) =  0.0\n",
      "H(a|b) =  2.0336624542334842\n",
      "H(b|a) =  2.1193308322365363\n"
     ]
    }
   ],
   "source": [
    "def H(prob):\n",
    "    return -np.sum(prob * np.log2(prob))\n",
    "\n",
    "H_a, H_b, H_a_b = H(probabilities(a)), H(probabilities(b)), H(p)\n",
    "print(\"H(a) = {}, H(b) = {}, H(a,b) = {}\".format(H_a, H_b, H_a_b))\n",
    "print(\"H(a) + H(b) - H(a,b) = \", H_a+H_b-H_a_b)\n",
    "print(\"H(a|b) = \", H_a_b - H_b)\n",
    "print(\"H(b|a) = \", H_a_b - H_a)"
   ]
  },
  {
   "cell_type": "code",
   "execution_count": 17,
   "metadata": {},
   "outputs": [
    {
     "name": "stdout",
     "output_type": "stream",
     "text": [
      "D_KL(a,b) = 0.028708439871952714\n",
      "D_KL(b,a) = 0.03259795929230736\n"
     ]
    }
   ],
   "source": [
    "def vector_prob(data):\n",
    "    count = Counter(data)\n",
    "    prob_dict = dict((key, val/len(data)) for key, val in count.items())\n",
    "    return np.vectorize(prob_dict.get)(data)\n",
    "    \n",
    "def D_KL(p_prob, q_prob):\n",
    "    return np.sum(p_prob * np.log2(p_prob / q_prob))\n",
    "\n",
    "print(\"D_KL(a,b) =\", D_KL(probabilities(a), probabilities(b)))\n",
    "print(\"D_KL(b,a) =\", D_KL(probabilities(b), probabilities(a)))"
   ]
  },
  {
   "cell_type": "markdown",
   "metadata": {},
   "source": [
    "## Задача 8"
   ]
  },
  {
   "cell_type": "markdown",
   "metadata": {},
   "source": [
    "Найти биективное отображение φ : {- 1, 0, 1} ⟶ {- 1, 0, 1}, такое что расстояние между распределением на графике  и распределением (pij) минимально"
   ]
  },
  {
   "cell_type": "code",
   "execution_count": 34,
   "metadata": {},
   "outputs": [
    {
     "name": "stdout",
     "output_type": "stream",
     "text": [
      "D_KL(p,phi) = 0.36515349421536053\n",
      "D_KL(phi,p) = 2.9618083236195205\n"
     ]
    }
   ],
   "source": [
    "def D_KL_with_zeros(p_prob, q_prob):\n",
    "    if 0. in q_prob:\n",
    "        p_prob, q_prob = p_prob[np.where(q_prob != 0.)], q_prob[np.where(q_prob != 0.)]\n",
    "    if 0. in p_prob:\n",
    "        p_prob, q_prob = p_prob[np.where(p_prob != 0.)], q_prob[np.where(p_prob != 0.)]\n",
    "    return abs(np.sum(p_prob * np.log2(p_prob / q_prob)))\n",
    "\n",
    "indexes = [[0, 4], [1, 0], [2, 1], [3, 3], [4, 2]] \n",
    "phi = np.array([0.2 if [k, j] in indexes else 0 for k in range(5) for j in range(5)])\n",
    "\n",
    "print(\"D_KL(p,phi) =\", D_KL_with_zeros(p.reshape(-1), phi.reshape(-1)))\n",
    "print(\"D_KL(phi,p) =\", D_KL_with_zeros(phi.reshape(-1), p.reshape(-1)))"
   ]
  },
  {
   "cell_type": "markdown",
   "metadata": {},
   "source": [
    "## Задание 9"
   ]
  },
  {
   "cell_type": "markdown",
   "metadata": {},
   "source": [
    "Вычислите корреляционные функции"
   ]
  },
  {
   "cell_type": "code",
   "execution_count": 35,
   "metadata": {},
   "outputs": [
    {
     "name": "stdout",
     "output_type": "stream",
     "text": [
      "R_a = [0.04, 0.02, 0.08, 0.06, 0.1, 0.1, 0.04, 0.08, -0.02, 0.0, -0.06, -0.12, -0.14, -0.26, -0.2, -0.3, -0.18, -0.2, -0.1, 0.0, 0.0, 0.2, 0.14, 0.36, 0.36, 0.42, 0.5, 0.36, 0.46, 0.2, 0.24, 0.0, -0.14, -0.18, -0.5, -0.4, -0.72, -0.6, -0.7, -0.64, -0.46, -0.48, -0.1, -0.14, 0.24, 0.3, 0.5, 0.78, 0.68, 1.08, 0.68, 0.78, 0.5, 0.3, 0.24, -0.14, -0.1, -0.48, -0.46, -0.64, -0.7, -0.6, -0.72, -0.4, -0.5, -0.18, -0.14, 0.0, 0.24, 0.2, 0.46, 0.36, 0.5, 0.42, 0.36, 0.36, 0.14, 0.2, 0.0, 0.0, -0.1, -0.2, -0.18, -0.3, -0.2, -0.26, -0.14, -0.12, -0.06, 0.0, -0.02, 0.08, 0.04, 0.1, 0.1, 0.06, 0.08, 0.02, 0.04]\n",
      "R_b = [-0.04, -0.02, 0.08, 0.08, 0.0, 0.04, 0.1, 0.1, 0.1, 0.02, -0.12, -0.1, 0.0, -0.12, -0.26, -0.28, -0.24, -0.18, -0.02, -0.02, -0.12, 0.0, 0.26, 0.38, 0.34, 0.3, 0.3, 0.38, 0.5, 0.38, 0.06, -0.12, -0.04, -0.02, -0.24, -0.5, -0.66, -0.68, -0.5, -0.36, -0.54, -0.66, -0.32, 0.08, 0.26, 0.38, 0.36, 0.38, 0.78, 1.18, 0.78, 0.38, 0.36, 0.38, 0.26, 0.08, -0.32, -0.66, -0.54, -0.36, -0.5, -0.68, -0.66, -0.5, -0.24, -0.02, -0.04, -0.12, 0.06, 0.38, 0.5, 0.38, 0.3, 0.3, 0.34, 0.38, 0.26, 0.0, -0.12, -0.02, -0.02, -0.18, -0.24, -0.28, -0.26, -0.12, 0.0, -0.1, -0.12, 0.02, 0.1, 0.1, 0.1, 0.04, 0.0, 0.08, 0.08, -0.02, -0.04]\n"
     ]
    }
   ],
   "source": [
    "def R(array, k):\n",
    "    if k >= 0:\n",
    "        return np.sum(array[:len(array) - k] * array[k:]) / len(array)\n",
    "    else:\n",
    "        return np.sum(array[-k:] * array[:len(array) + k]) / len(array)\n",
    "\n",
    "R_a = [R(a, k) for k in range(-49, 50, 1)]\n",
    "R_b = [R(b, k) for k in range(-49, 50, 1)]\n",
    "print(\"R_a =\", R_a)\n",
    "print(\"R_b =\", R_b)"
   ]
  },
  {
   "cell_type": "code",
   "execution_count": 36,
   "metadata": {},
   "outputs": [],
   "source": [
    "def Fourier(array, k):\n",
    "    return abs(np.sum(array * np.exp(-2 * np.pi *1j * k * np.arange(0, len(array), 1)/len(array))))      \n",
    "\n",
    "fourrier_a = [Fourier(R_a, k) for k in range(-49, 50, 1)]\n",
    "fourrier_b = [Fourier(R_b, k) for k in range(-49, 50, 1)]"
   ]
  },
  {
   "cell_type": "code",
   "execution_count": 37,
   "metadata": {},
   "outputs": [
    {
     "data": {
      "image/png": "[encoded data removed]",
      "text/plain": [
       "<Figure size 432x288 with 2 Axes>"
      ]
     },
     "metadata": {},
     "output_type": "display_data"
    }
   ],
   "source": [
    "t_array = np.linspace(0, len(fourrier_a), len(fourrier_a))\n",
    "plt.subplot(2, 1, 1)\n",
    "plt.plot(t_array, fourrier_a, c = 'c')\n",
    "plt.title('Fourrier R_a')\n",
    "\n",
    "plt.subplot(2, 1, 2)\n",
    "plt.plot(t_array, fourrier_b, c = 'c')\n",
    "plt.title('Fourrier R_b')\n",
    "plt.tight_layout()\n",
    "plt.show()"
   ]
  },
  {
   "cell_type": "markdown",
   "metadata": {},
   "source": [
    "Найдите максимум преобразования Фурье. Выведите соответствующую частоту:"
   ]
  },
  {
   "cell_type": "code",
   "execution_count": 38,
   "metadata": {},
   "outputs": [
    {
     "name": "stdout",
     "output_type": "stream",
     "text": [
      "maximum = 20.324273785521186 with frequency 2.8559933214452666\n",
      "maximum = 17.447674161408994 with frequency 2.8559933214452666\n"
     ]
    }
   ],
   "source": [
    "freq = 2 * np.pi * np.argmax(fourrier_a) / len(fourrier_a)\n",
    "print(\"maximum =\", max(fourrier_a), \"with frequency\", freq)\n",
    "freq = 2 * np.pi * np.argmax(fourrier_b) / len(fourrier_b)\n",
    "print(\"maximum =\", max(fourrier_b), \"with frequency\", freq)"
   ]
  },
  {
   "cell_type": "code",
   "execution_count": null,
   "metadata": {},
   "outputs": [],
   "source": []
  }
 ],
 "metadata": {
  "kernelspec": {
   "display_name": "Python 3",
   "language": "python",
   "name": "python3"
  },
  "language_info": {
   "codemirror_mode": {
    "name": "ipython",
    "version": 3
   },
   "file_extension": ".py",
   "mimetype": "text/x-python",
   "name": "python",
   "nbconvert_exporter": "python",
   "pygments_lexer": "ipython3",
   "version": "3.7.0"
  }
 },
 "nbformat": 4,
 "nbformat_minor": 2
}
